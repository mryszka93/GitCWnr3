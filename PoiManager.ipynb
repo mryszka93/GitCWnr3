{
 "cells": [
  {
   "cell_type": "code",
   "execution_count": null,
   "metadata": {
    "collapsed": true
   },
   "outputs": [],
   "source": [
    "class POIManager(object):\n",
    "   \n",
    "  def __init__(self):\n",
    "     \n",
    "    from poi import POI\n",
    "    import csv\n",
    "    with open(\"pois.txt\",'r') as csvfile:\n",
    "      pkt=csv.reader(csvfile, delimiter=' ') \n",
    "      for row in pkt:\n",
    "        x=row[0]\n",
    "        y=row[1]\n",
    "        name=row[2:]\n",
    "        poi1=POI(x,y,name)\n",
    "        self.pois = []\n",
    "        self.pois.append(poi1)\n",
    "  def get_all_poi(self):\n",
    "    return self.pois\n",
    "  def add_poi(self,POI):\n",
    "    self.pois.append(POI)\n",
    "    pass"
   ]
  }
 ],
 "metadata": {
  "anaconda-cloud": {},
  "kernelspec": {
   "display_name": "Python [default]",
   "language": "python",
   "name": "python2"
  },
  "language_info": {
   "codemirror_mode": {
    "name": "ipython",
    "version": 2
   },
   "file_extension": ".py",
   "mimetype": "text/x-python",
   "name": "python",
   "nbconvert_exporter": "python",
   "pygments_lexer": "ipython2",
   "version": "2.7.12"
  }
 },
 "nbformat": 4,
 "nbformat_minor": 1
}
